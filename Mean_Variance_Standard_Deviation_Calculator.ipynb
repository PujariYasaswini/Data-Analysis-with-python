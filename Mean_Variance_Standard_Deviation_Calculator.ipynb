{
  "nbformat": 4,
  "nbformat_minor": 0,
  "metadata": {
    "colab": {
      "provenance": []
    },
    "kernelspec": {
      "name": "python3",
      "display_name": "Python 3"
    },
    "language_info": {
      "name": "python"
    }
  },
  "cells": [
    {
      "cell_type": "code",
      "source": [
        "#!/usr/bin/env python3\n",
        "\n",
        "import numpy as np\n",
        "def calculate(input_list):\n",
        "    if len(input_list)!=9:\n",
        "        raise ValueError(\"List must contain nine numbers.\")\n",
        "    matrix=np.array(input_list).reshape(3,3)\n",
        "    calculations = {\n",
        "        'mean':[matrix.mean(axis=0).tolist(),matrix.mean(axis=1).tolist(),matrix.mean().item()],\n",
        "        'variance':[matrix.var(axis=0).tolist(),matrix.var(axis=1).tolist(),matrix.var().item()],\n",
        "        'standard deviation': [matrix.std(axis=0).tolist(), matrix.std(axis=1).tolist(), matrix.std().item()],\n",
        "        'max':[matrix.max(axis=0).tolist(),matrix.max(axis=1).tolist(),matrix.max().item()],\n",
        "        'min':[matrix.min(axis=0).tolist(),matrix.min(axis=1).tolist(),matrix.min().item()],\n",
        "        'sum':[matrix.sum(axis=0).tolist(),matrix.sum(axis=1).tolist(),matrix.sum().item()]\n",
        "    }\n",
        "    return calculations\n",
        "if __name__ == \"__main__\":\n",
        "    test_input = [0, 1, 2, 3, 4, 5, 6, 7, 8]\n",
        "    try:\n",
        "        result = calculate(test_input)\n",
        "        print(result)\n",
        "    except ValueError as e:\n",
        "        print(e)"
      ],
      "metadata": {
        "colab": {
          "base_uri": "https://localhost:8080/"
        },
        "id": "eHO2aAtiM5AA",
        "outputId": "9e39d050-662f-47b7-8692-8dc50933129b"
      },
      "execution_count": 2,
      "outputs": [
        {
          "output_type": "stream",
          "name": "stdout",
          "text": [
            "{'mean': [[3.0, 4.0, 5.0], [1.0, 4.0, 7.0], 4.0], 'variance': [[6.0, 6.0, 6.0], [0.6666666666666666, 0.6666666666666666, 0.6666666666666666], 6.666666666666667], 'standard deviation': [[2.449489742783178, 2.449489742783178, 2.449489742783178], [0.816496580927726, 0.816496580927726, 0.816496580927726], 2.581988897471611], 'max': [[6, 7, 8], [2, 5, 8], 8], 'min': [[0, 1, 2], [0, 3, 6], 0], 'sum': [[9, 12, 15], [3, 12, 21], 36]}\n"
          ]
        }
      ]
    },
    {
      "cell_type": "code",
      "source": [],
      "metadata": {
        "id": "jhNxytVlM5D_"
      },
      "execution_count": null,
      "outputs": []
    }
  ]
}